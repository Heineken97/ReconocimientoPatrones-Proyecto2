{
 "cells": [
  {
   "cell_type": "markdown",
   "metadata": {},
   "source": [
    "Autores Gabriel Conejo Valerio -2014093542 Nasser Brown Joseph Jimenez Zuñiga - 2016133677"
   ]
  },
  {
   "cell_type": "code",
   "execution_count": null,
   "metadata": {},
   "outputs": [],
   "source": [
    "from sklearn.preprocessing import OneHotEncoder"
   ]
  },
  {
   "cell_type": "markdown",
   "metadata": {},
   "source": []
  },
  {
   "cell_type": "code",
   "execution_count": null,
   "metadata": {},
   "outputs": [],
   "source": []
  },
  {
   "cell_type": "markdown",
   "metadata": {},
   "source": [
    "MLP (Perceptron Multicapa)"
   ]
  },
  {
   "cell_type": "code",
   "execution_count": null,
   "metadata": {},
   "outputs": [],
   "source": [
    "class PerceptronMulticapa:\n",
    "    def __init__(self, capas, alpha=0.1):\n",
    "        self.capas = capas\n",
    "        self.alpha = alpha\n",
    "        self.bias = []\n",
    "        self.pesos = []\n",
    "        for i in range(0, len(capas) - 1):\n",
    "            # Inicializar los pesos y bias de cada capa\n",
    "            peso = np.random.randn(capas[i], capas[i+1])\n",
    "            self.pesos.append(peso)\n",
    "            bias = np.random.randn(capas[i+1])\n",
    "            self.bias.append(bias)\n",
    "    def activacion(self, x):\n",
    "        # Funcion de activacion sigmoide\n",
    "        return 1.0 / (1 + np.exp(-x))\n",
    "    def activacion_derivada(self, x):\n",
    "        # Derivada de la funcion de activacion sigmoide\n",
    "        return x * (1 - x)\n",
    "    def feedforward(self, X):\n",
    "        # Calcular la salida de cada capa\n",
    "        capa_activacion = [X]\n",
    "        for i in range(0, len(self.capas) - 1):\n",
    "            x = np.dot(capa_activacion[i], self.pesos[i]) + self.bias[i]\n",
    "            y = self.activacion(x)\n",
    "            capa_activacion.append(y)\n",
    "        return capa_activacion\n",
    "    def backpropagation(self, X, y, capa_activacion):\n",
    "        # Calcular el error de la capa de salida\n",
    "        error = capa_activacion[-1] - y\n",
    "        deltas = [error]\n",
    "        # Propagar el error hacia atras a traves de la red neuronal\n",
    "        for i in reversed(range(1, len(self.capas) - 1)):\n",
    "            delta = deltas[-1]\n",
    "            activacion = capa_activacion[i]\n",
    "            activacion_anterior = capa_activacion[i-1]\n",
    "            delta_anterior = np.dot(delta, self.pesos[i].T)\n",
    "            deltas.append(delta_anterior * self.activacion_derivada(activacion))\n",
    "        deltas = list(reversed(deltas))\n",
    "        for i in range(len(self.capas) - 1):\n",
    "            activacion_anterior = capa_activacion[i]\n",
    "            delta = deltas[i]\n",
    "            d_peso = np.outer(activacion_anterior, delta)\n",
    "            d_bias = delta\n",
    "            self.pesos[i] -= self.alpha * d_peso\n",
    "            self.bias[i] -= self.alpha * d_bias\n",
    "    def entrenar(self, X, y, epochs):\n",
    "        for epoch in range(0, epochs):\n",
    "            for i in range(0, len(X)):\n",
    "                capa_activacion = self.feedforward(X[i])\n",
    "                self.backpropagation(X[i], y[i], capa_activacion)\n",
    "    def predecir(self, X):\n",
    "        # Obtener la salida de la ultima capa\n",
    "        capa_activacion = self.feedforward(X)\n",
    "        return capa_activacion[-1]\n",
    "    \n",
    "def encode_labels(y):\n",
    "    # Codificar las etiquetas en one-hot encoding \n",
    "    encoder = OneHotEncoder(sparse=False)\n",
    "    y_encoded = encoder.fit_transform(y.reshape(-1, 1))\n",
    "    return y_encoded"
   ]
  },
  {
   "cell_type": "markdown",
   "metadata": {},
   "source": [
    "Feature Extractor"
   ]
  },
  {
   "cell_type": "code",
   "execution_count": null,
   "metadata": {},
   "outputs": [],
   "source": []
  },
  {
   "cell_type": "markdown",
   "metadata": {},
   "source": [
    "Red sin Feature Extractor"
   ]
  },
  {
   "cell_type": "code",
   "execution_count": null,
   "metadata": {},
   "outputs": [],
   "source": [
    "\n",
    "arquitectura = [4, 8, 5, 3]  # Capas ocultas de diferentes tamanos\n",
    "red_neuronal = PerceptronMulticapa(capas=arquitectura, alpha=0.1)\n",
    "\n",
    "# Codificar las etiquetas en formato one-hot encoding debido a que es multicapa\n",
    "y_entrenamiento_encoded = encode_labels(y_entrenamiento)\n",
    "y_prueba_encoded = encode_labels(y_prueba)\n",
    "\n",
    "red_neuronal.entrenar(X_entrenamiento, y_entrenamiento_encoded, epochs=3000)\n",
    "predicciones_encoded = red_neuronal.predecir(X_prueba)\n",
    "\n",
    "# Decodificar las predicciones (seleccionar la clase con probabilidad mas alta)\n",
    "predicciones = np.argmax(predicciones_encoded, axis=1)\n",
    "\n",
    "accuracy = accuracy_score(y_prueba, predicciones)\n",
    "precision = precision_score(y_prueba, predicciones, average='weighted')\n",
    "recall = recall_score(y_prueba, predicciones, average='weighted')\n",
    "f1 = f1_score(y_prueba, predicciones, average='weighted')\n",
    "print(\"Metricas red especifica [4, 8, 5, 3]\")\n",
    "print(f\"Accuracy: {accuracy:.2f}\")\n",
    "print(f\"Precision (weighted): {precision:.2f}\")\n",
    "print(f\"Recall (weighted): {recall:.2f}\")\n",
    "print(f\"F1-score (weighted): {f1:.2f}\")"
   ]
  },
  {
   "cell_type": "markdown",
   "metadata": {},
   "source": [
    "Red con Feature Extractor"
   ]
  },
  {
   "cell_type": "code",
   "execution_count": null,
   "metadata": {},
   "outputs": [],
   "source": []
  },
  {
   "cell_type": "markdown",
   "metadata": {},
   "source": [
    "Comparacion entre Red sin Feature Extractor vs Red con Feature Extractor"
   ]
  },
  {
   "cell_type": "code",
   "execution_count": null,
   "metadata": {},
   "outputs": [],
   "source": []
  },
  {
   "cell_type": "markdown",
   "metadata": {},
   "source": [
    "Redes Convolucionales"
   ]
  },
  {
   "cell_type": "markdown",
   "metadata": {},
   "source": [
    "Filtrado de imagenes offline"
   ]
  },
  {
   "cell_type": "code",
   "execution_count": null,
   "metadata": {},
   "outputs": [],
   "source": []
  },
  {
   "cell_type": "markdown",
   "metadata": {},
   "source": [
    "Filtro Bilateral"
   ]
  },
  {
   "cell_type": "code",
   "execution_count": null,
   "metadata": {},
   "outputs": [],
   "source": []
  },
  {
   "cell_type": "markdown",
   "metadata": {},
   "source": [
    "Red Convolucional 1"
   ]
  },
  {
   "cell_type": "code",
   "execution_count": null,
   "metadata": {},
   "outputs": [],
   "source": []
  },
  {
   "cell_type": "markdown",
   "metadata": {},
   "source": [
    "Red Convolucional 1 en imagenes crudas"
   ]
  },
  {
   "cell_type": "code",
   "execution_count": null,
   "metadata": {},
   "outputs": [],
   "source": []
  },
  {
   "cell_type": "markdown",
   "metadata": {},
   "source": [
    "Red Convolucional 1 con \"Bilateral Filter\""
   ]
  },
  {
   "cell_type": "code",
   "execution_count": null,
   "metadata": {},
   "outputs": [],
   "source": []
  },
  {
   "cell_type": "markdown",
   "metadata": {},
   "source": [
    "Red Convolucional 2"
   ]
  },
  {
   "cell_type": "code",
   "execution_count": null,
   "metadata": {},
   "outputs": [],
   "source": []
  },
  {
   "cell_type": "markdown",
   "metadata": {},
   "source": [
    "Red Convolucional 2 en imagenes crudas"
   ]
  },
  {
   "cell_type": "code",
   "execution_count": null,
   "metadata": {},
   "outputs": [],
   "source": []
  },
  {
   "cell_type": "markdown",
   "metadata": {},
   "source": [
    "Red Convolucional 2 con \"Bilateral Filter\""
   ]
  },
  {
   "cell_type": "code",
   "execution_count": null,
   "metadata": {},
   "outputs": [],
   "source": []
  },
  {
   "cell_type": "markdown",
   "metadata": {},
   "source": [
    "Tabla de Metricas"
   ]
  },
  {
   "cell_type": "code",
   "execution_count": null,
   "metadata": {},
   "outputs": [],
   "source": []
  },
  {
   "cell_type": "markdown",
   "metadata": {},
   "source": [
    "Respuesta a las preguntas\n",
    "¿Cual es el tamano de los modelos?\n",
    "¿Cual es la arquitectura (cuales y cuantas capas se utilizaron)?\n",
    "¿Que ventajas tiene utilizar un feature extractor? referirse a las metricas y tiempos\n",
    "¿Que modelo se entrena mas rapido?\n",
    "¿Cuales secciones de la imagen son las mas importantes para la eleccion?\n",
    "¿Cual fue el mejor modelo?"
   ]
  },
  {
   "cell_type": "markdown",
   "metadata": {},
   "source": []
  }
 ],
 "metadata": {
  "language_info": {
   "name": "python"
  }
 },
 "nbformat": 4,
 "nbformat_minor": 2
}
